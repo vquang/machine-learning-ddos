{
 "cells": [
  {
   "cell_type": "markdown",
   "id": "dcecd614-ca6c-465b-b1a1-8bd7d08fb3fa",
   "metadata": {},
   "source": [
    "# ALL LIBRARIES"
   ]
  },
  {
   "cell_type": "code",
   "execution_count": 6,
   "id": "64197ab7-a9a9-4064-ac85-f2e5ae837c44",
   "metadata": {},
   "outputs": [],
   "source": [
    "import glob\n",
    "import json\n",
    "import pandas as pd\n",
    "import numpy as np\n",
    "import time\n",
    "from fastai.tabular.all import df_shrink\n",
    "import joblib\n",
    "from sklearn.metrics import classification_report, accuracy_score"
   ]
  },
  {
   "cell_type": "markdown",
   "id": "2535ed47-6dbd-4ac3-bf33-0d7f770db138",
   "metadata": {},
   "source": [
    "# GLOBAL FUNCTION"
   ]
  },
  {
   "cell_type": "markdown",
   "id": "b40f459e-7688-4650-a3d0-95fe05ddd485",
   "metadata": {},
   "source": [
    "## LOAD CONSTANT FUNCTION"
   ]
  },
  {
   "cell_type": "code",
   "execution_count": 10,
   "id": "e5bc1611-03a5-4401-91e0-622b333cce7a",
   "metadata": {},
   "outputs": [],
   "source": [
    "def load_constant(file):\n",
    "    t1 = time.time()\n",
    "    print(f\"==============================\")\n",
    "\n",
    "    print(f\"Loading file: {file}...\")\n",
    "    with open(f\"commons/{file}\", \"r\") as f:\n",
    "        features = json.load(f)\n",
    "\n",
    "    t2 = time.time()\n",
    "    print(f\"Finish... Total time: {t2 - t1} seconds\")\n",
    "    print(f\"==============================\")\n",
    "    \n",
    "    return features"
   ]
  },
  {
   "cell_type": "markdown",
   "id": "01069cc3-5a9c-41fb-9421-9cc4ff033fb0",
   "metadata": {},
   "source": [
    "## GET DATAFRAME FUNCTION"
   ]
  },
  {
   "cell_type": "code",
   "execution_count": 12,
   "id": "722ceba4-22da-42a4-8992-6d03fef4ba51",
   "metadata": {},
   "outputs": [],
   "source": [
    "def get_dataframe(files):\n",
    "    t1 = time.time()\n",
    "    print(f\"==============================\")\n",
    "\n",
    "    print(f\"Get dataframe from real data...\")\n",
    "    dfs = [pd.read_csv(file) for file in files]\n",
    "\n",
    "    t2 = time.time()\n",
    "    print(f\"Finish... Total time: {t2 - t1} seconds\")\n",
    "    print(f\"==============================\")\n",
    "\n",
    "    return dfs\n",
    "    "
   ]
  },
  {
   "cell_type": "markdown",
   "id": "89d96c97-6120-45bb-8419-17081e12aaa3",
   "metadata": {},
   "source": [
    "## PRE PROCESS FUNCTION"
   ]
  },
  {
   "cell_type": "code",
   "execution_count": 56,
   "id": "c66c60ec-f3eb-45cd-b8bb-15cd8d043503",
   "metadata": {},
   "outputs": [],
   "source": [
    "def pre_process(file, df):\n",
    "    t1 = time.time()\n",
    "    print(f\"==============================\")\n",
    "    print(f\"Processing file: {file}...\")\n",
    "    print(f\"\\tDimensions before process: {df.shape}\")\n",
    "    origin_df = df.copy()\n",
    "    \n",
    "    print(f\"\\tStrip columns name...\")\n",
    "    df.columns = df.columns.str.strip()\n",
    "    \n",
    "    print(f\"\\tRename columns...\")\n",
    "    df.rename(columns=mapper_features, inplace=True)\n",
    "    \n",
    "    print(f\"\\tDrop columns...\")\n",
    "    df.drop(columns=drop_features, inplace=True)\n",
    "    \n",
    "    print(f\"\\tReplace 'infinity value' by 'nan'...\")\n",
    "    df.replace(to_replace=[np.inf, -np.inf], value=np.nan, inplace=True)\n",
    "    \n",
    "    # print(f\"\\tDrop rows having 'nan' value...\")\n",
    "    # print(f\"\\t...has been droping {df.isna().any(axis=1).sum()} rows\")\n",
    "    # df.dropna(inplace=True)\n",
    "    \n",
    "    # print(f\"\\tDrop duplicate rows...\")\n",
    "    # print(f\"\\t...has been droping {df.duplicated().sum()} rows...\")\n",
    "    # df.drop_duplicates(inplace=True)\n",
    "\n",
    "    # print(f\"\\tReset index...\")\n",
    "    # df.reset_index(inplace=True, drop=True)\n",
    "\n",
    "    print(f\"\\tShrink data-frame type...\")\n",
    "    df = df_shrink(df)\n",
    "    print(f\"\\tDimensions after process: {df.shape}\")\n",
    "\n",
    "    t2 = time.time()\n",
    "    print(f\"Finish... Total time: {t2 - t1} seconds\")\n",
    "    print(f\"==============================\")\n",
    "    \n",
    "    return df, origin_df"
   ]
  },
  {
   "cell_type": "markdown",
   "id": "686ee0a1-b7e8-447c-96eb-4aa5aefd23cd",
   "metadata": {},
   "source": [
    "## PREDICTING FUNCTION"
   ]
  },
  {
   "cell_type": "code",
   "execution_count": 16,
   "id": "e6384d78-2d7d-4cee-a528-232506a05c0b",
   "metadata": {},
   "outputs": [],
   "source": [
    "def predict_process(origin_df, df, file, model):\n",
    "    t1 = time.time()\n",
    "    print(f\"==============================\")\n",
    "\n",
    "    print(f\"Dataframe belong to file: {file}\")\n",
    "    print(f\"Start predicting...\")\n",
    "    X = df.drop(columns='Label')\n",
    "    y_pred = model.predict(X)\n",
    "\n",
    "    arr = np.array(y_pred)\n",
    "    unique_values, counts = np.unique(arr, return_counts=True)\n",
    "    for value, count in zip(unique_values, counts):\n",
    "        print(f'{value}: {count}')\n",
    "\n",
    "    print(f\"Saving result...\")\n",
    "    origin_df['Label'] = y_pred\n",
    "    origin_df.to_csv(f\"predict_result/{file.split('\\\\')[-1]}\", index=False)\n",
    "    \n",
    "    t2 = time.time()\n",
    "    print(f\"Finish... Total time: {t2 - t1} seconds\")\n",
    "    print(f\"==============================\")\n",
    "\n",
    "    return y_pred"
   ]
  },
  {
   "cell_type": "markdown",
   "id": "1670c91c-fc7a-49ec-9470-4d0841d264c4",
   "metadata": {},
   "source": [
    "## LOAD MODEL FUNCTION"
   ]
  },
  {
   "cell_type": "code",
   "execution_count": 18,
   "id": "61d51c51-aa5f-4709-9eb3-da81ed5e5ffe",
   "metadata": {},
   "outputs": [],
   "source": [
    "def load_model(file):\n",
    "    t1 = time.time()\n",
    "    print(f\"==============================\")\n",
    "\n",
    "    print(f\"Loading model from {file}...\")\n",
    "    model = joblib.load('modelset/model.joblib', mmap_mode='r')\n",
    "    \n",
    "    t2 = time.time()\n",
    "    print(f\"Finish... Total time: {t2 - t1} seconds\")\n",
    "    print(f\"==============================\")\n",
    "\n",
    "    return model"
   ]
  },
  {
   "cell_type": "markdown",
   "id": "14911e91-ea1f-4ea9-996b-dffd61f01fe6",
   "metadata": {},
   "source": [
    "# MAIN PROCESS"
   ]
  },
  {
   "cell_type": "markdown",
   "id": "68d5d418-3bf8-4e15-bf08-156665196229",
   "metadata": {},
   "source": [
    "## LOADING CONSTANT..."
   ]
  },
  {
   "cell_type": "code",
   "execution_count": 20,
   "id": "c9a9d650-f50a-4400-8558-1f5048c54ccc",
   "metadata": {},
   "outputs": [
    {
     "name": "stdout",
     "output_type": "stream",
     "text": [
      "==============================\n",
      "Loading file: mapper_for_predicting.json...\n",
      "Finish... Total time: 0.0 seconds\n",
      "==============================\n",
      "==============================\n",
      "Loading file: drop_for_predicting.json...\n",
      "Finish... Total time: 0.012997865676879883 seconds\n",
      "==============================\n"
     ]
    }
   ],
   "source": [
    "mapper_features = load_constant(\"mapper_for_predicting.json\")\n",
    "drop_features = load_constant(\"drop_for_predicting.json\")"
   ]
  },
  {
   "cell_type": "markdown",
   "id": "8915b690-6456-4f47-9663-9c41ed5d3562",
   "metadata": {},
   "source": [
    "## READING DATA..."
   ]
  },
  {
   "cell_type": "code",
   "execution_count": 28,
   "id": "f6dfbcb8-bfee-48ff-bc76-57a6deae6b41",
   "metadata": {},
   "outputs": [
    {
     "name": "stdout",
     "output_type": "stream",
     "text": [
      "==============================\n",
      "Reading dataset...\n",
      "\tshare\\slowhttptest.pcap_Flow.csv\n",
      "\tshare\\syn-hping.pcap_Flow.csv\n",
      "\tshare\\syn-metasploit.pcap_Flow.csv\n",
      "\tshare\\syn.pcap_Flow.csv\n",
      "\tshare\\udp-hping.pcap_Flow.csv\n",
      "\tshare\\udp.pcap_Flow.csv\n",
      "Finish... Total time: 0.0010111331939697266 seconds\n",
      "==============================\n"
     ]
    }
   ],
   "source": [
    "t1 = time.time()\n",
    "print(f\"==============================\")\n",
    "\n",
    "print(f\"Reading dataset...\")\n",
    "files = glob.glob('share/*.csv')\n",
    "for file in files:\n",
    "    print(f\"\\t{file}\")\n",
    "\n",
    "t2 = time.time()\n",
    "print(f\"Finish... Total time: {t2 - t1} seconds\")\n",
    "print(f\"==============================\")"
   ]
  },
  {
   "cell_type": "code",
   "execution_count": 24,
   "id": "f12fa7e9-641f-40e2-8a44-dff8872c02e6",
   "metadata": {},
   "outputs": [
    {
     "name": "stdout",
     "output_type": "stream",
     "text": [
      "==============================\n",
      "Get dataframe from real data...\n",
      "Finish... Total time: 0.26117491722106934 seconds\n",
      "==============================\n",
      "(1087, 22)\n",
      "(12410, 22)\n",
      "(10227, 22)\n",
      "(14284, 84)\n",
      "(23611, 22)\n",
      "(108, 22)\n"
     ]
    }
   ],
   "source": [
    "dfs = get_dataframe(files)\n",
    "for df in dfs:\n",
    "    print(df.shape)"
   ]
  },
  {
   "cell_type": "markdown",
   "id": "c1a59faa-3daf-44d8-a9c8-380d155cf559",
   "metadata": {},
   "source": [
    "## PRE PROCESSING..."
   ]
  },
  {
   "cell_type": "code",
   "execution_count": 58,
   "id": "23faf2ff-f39b-427a-9480-65de66f08564",
   "metadata": {},
   "outputs": [
    {
     "name": "stdout",
     "output_type": "stream",
     "text": [
      "==============================\n",
      "Processing dataset...\n",
      "==============================\n",
      "Processing file: share\\slowhttptest.pcap_Flow.csv...\n",
      "\tDimensions before process: (1089, 84)\n",
      "\tStrip columns name...\n",
      "\tRename columns...\n",
      "\tDrop columns...\n",
      "\tReplace 'infinity value' by 'nan'...\n",
      "\tShrink data-frame type...\n",
      "\tDimensions after process: (1089, 22)\n",
      "Finish... Total time: 0.007988452911376953 seconds\n",
      "==============================\n",
      "==============================\n",
      "Processing file: share\\syn-hping.pcap_Flow.csv...\n",
      "\tDimensions before process: (22323, 84)\n",
      "\tStrip columns name...\n",
      "\tRename columns...\n",
      "\tDrop columns...\n",
      "\tReplace 'infinity value' by 'nan'...\n",
      "\tShrink data-frame type...\n",
      "\tDimensions after process: (22323, 22)\n",
      "Finish... Total time: 0.021010398864746094 seconds\n",
      "==============================\n",
      "==============================\n",
      "Processing file: share\\syn-metasploit.pcap_Flow.csv...\n",
      "\tDimensions before process: (10231, 84)\n",
      "\tStrip columns name...\n",
      "\tRename columns...\n",
      "\tDrop columns...\n",
      "\tReplace 'infinity value' by 'nan'...\n",
      "\tShrink data-frame type...\n",
      "\tDimensions after process: (10231, 22)\n",
      "Finish... Total time: 0.011000394821166992 seconds\n",
      "==============================\n",
      "==============================\n",
      "Processing file: share\\syn.pcap_Flow.csv...\n",
      "\tDimensions before process: (14284, 84)\n",
      "\tStrip columns name...\n",
      "\tRename columns...\n",
      "\tDrop columns...\n",
      "\tReplace 'infinity value' by 'nan'...\n",
      "\tShrink data-frame type...\n",
      "\tDimensions after process: (14284, 22)\n",
      "Finish... Total time: 0.01399850845336914 seconds\n",
      "==============================\n",
      "==============================\n",
      "Processing file: share\\udp-hping.pcap_Flow.csv...\n",
      "\tDimensions before process: (62220, 84)\n",
      "\tStrip columns name...\n",
      "\tRename columns...\n",
      "\tDrop columns...\n",
      "\tReplace 'infinity value' by 'nan'...\n",
      "\tShrink data-frame type...\n",
      "\tDimensions after process: (62220, 22)\n",
      "Finish... Total time: 0.0450434684753418 seconds\n",
      "==============================\n",
      "==============================\n",
      "Processing file: share\\udp.pcap_Flow.csv...\n",
      "\tDimensions before process: (278, 84)\n",
      "\tStrip columns name...\n",
      "\tRename columns...\n",
      "\tDrop columns...\n",
      "\tReplace 'infinity value' by 'nan'...\n",
      "\tShrink data-frame type...\n",
      "\tDimensions after process: (278, 22)\n",
      "Finish... Total time: 0.006000518798828125 seconds\n",
      "==============================\n",
      "Finish... Total time: 0.7901401519775391 seconds\n",
      "==============================\n"
     ]
    }
   ],
   "source": [
    "t1 = time.time()\n",
    "print(f\"==============================\")\n",
    "\n",
    "print(f\"Processing dataset...\")\n",
    "dfs = []\n",
    "origin_dfs = []\n",
    "for file in files:\n",
    "    df, origin_df = pre_process(file, pd.read_csv(file))\n",
    "    dfs.append(df)\n",
    "    origin_dfs.append(origin_df)\n",
    "\n",
    "t2 = time.time()\n",
    "print(f\"Finish... Total time: {t2 - t1} seconds\")\n",
    "print(f\"==============================\")"
   ]
  },
  {
   "cell_type": "code",
   "execution_count": 72,
   "id": "fa72d236-7c83-44ce-b219-af170427937a",
   "metadata": {},
   "outputs": [
    {
     "data": {
      "text/plain": [
       "6"
      ]
     },
     "execution_count": 72,
     "metadata": {},
     "output_type": "execute_result"
    }
   ],
   "source": [
    "len(files)"
   ]
  },
  {
   "cell_type": "markdown",
   "id": "d695926f-22fa-42e5-845b-a5a1d72ce4b0",
   "metadata": {},
   "source": [
    "## LOADING MODEL..."
   ]
  },
  {
   "cell_type": "code",
   "execution_count": 32,
   "id": "0340c33b-9ec9-4366-bb68-8793e0b777fb",
   "metadata": {},
   "outputs": [
    {
     "name": "stdout",
     "output_type": "stream",
     "text": [
      "==============================\n",
      "Loading model from modelset/model.joblib...\n",
      "Finish... Total time: 42.04454827308655 seconds\n",
      "==============================\n"
     ]
    }
   ],
   "source": [
    "model = load_model(\"modelset/model.joblib\")"
   ]
  },
  {
   "cell_type": "markdown",
   "id": "d90fbc0f-a16e-4fc6-8893-d9ccb9859b62",
   "metadata": {},
   "source": [
    "## PREDICTING..."
   ]
  },
  {
   "cell_type": "code",
   "execution_count": 60,
   "id": "49597cab-e5cd-4282-aef6-d53aa8b87a5d",
   "metadata": {
    "scrolled": true
   },
   "outputs": [
    {
     "name": "stdout",
     "output_type": "stream",
     "text": [
      "==============================\n",
      "Dataframe belong to file: share\\slowhttptest.pcap_Flow.csv\n",
      "Start predicting...\n",
      "BENIGN: 981\n",
      "DNS: 81\n",
      "LDAP: 5\n",
      "NTP: 19\n",
      "SNMP: 1\n",
      "UDP: 2\n",
      "Saving result...\n",
      "Finish... Total time: 0.0800163745880127 seconds\n",
      "==============================\n",
      "==============================\n",
      "Dataframe belong to file: share\\syn-hping.pcap_Flow.csv\n",
      "Start predicting...\n",
      "BENIGN: 10790\n",
      "DNS: 1003\n",
      "NTP: 2042\n",
      "Syn: 7262\n",
      "UDP: 871\n",
      "UDP-lag: 355\n",
      "Saving result...\n",
      "Finish... Total time: 1.008678913116455 seconds\n",
      "==============================\n",
      "==============================\n",
      "Dataframe belong to file: share\\syn-metasploit.pcap_Flow.csv\n",
      "Start predicting...\n",
      "BENIGN: 756\n",
      "Syn: 9475\n",
      "Saving result...\n",
      "Finish... Total time: 0.38400864601135254 seconds\n",
      "==============================\n",
      "==============================\n",
      "Dataframe belong to file: share\\syn.pcap_Flow.csv\n",
      "Start predicting...\n",
      "BENIGN: 877\n",
      "NTP: 4407\n",
      "Syn: 6286\n",
      "UDP: 1340\n",
      "UDP-lag: 1374\n",
      "Saving result...\n",
      "Finish... Total time: 0.6448721885681152 seconds\n",
      "==============================\n",
      "==============================\n",
      "Dataframe belong to file: share\\udp-hping.pcap_Flow.csv\n",
      "Start predicting...\n",
      "BENIGN: 59469\n",
      "NTP: 2751\n",
      "Saving result...\n",
      "Finish... Total time: 2.544891595840454 seconds\n",
      "==============================\n",
      "==============================\n",
      "Dataframe belong to file: share\\udp.pcap_Flow.csv\n",
      "Start predicting...\n",
      "BENIGN: 278\n",
      "Saving result...\n",
      "Finish... Total time: 0.020986080169677734 seconds\n",
      "==============================\n"
     ]
    }
   ],
   "source": [
    "for origin_df, df, file in zip(origin_dfs, dfs, files):\n",
    "    predict_process(origin_df, df, file, model)"
   ]
  },
  {
   "cell_type": "code",
   "execution_count": 10,
   "id": "181003be-d942-4c3e-8e3d-ac0a41fd3c07",
   "metadata": {},
   "outputs": [
    {
     "data": {
      "text/html": [
       "<div>\n",
       "<style scoped>\n",
       "    .dataframe tbody tr th:only-of-type {\n",
       "        vertical-align: middle;\n",
       "    }\n",
       "\n",
       "    .dataframe tbody tr th {\n",
       "        vertical-align: top;\n",
       "    }\n",
       "\n",
       "    .dataframe thead th {\n",
       "        text-align: right;\n",
       "    }\n",
       "</style>\n",
       "<table border=\"1\" class=\"dataframe\">\n",
       "  <thead>\n",
       "    <tr style=\"text-align: right;\">\n",
       "      <th></th>\n",
       "      <th>Flow ID</th>\n",
       "      <th>Src IP</th>\n",
       "      <th>Src Port</th>\n",
       "      <th>Dst IP</th>\n",
       "      <th>Dst Port</th>\n",
       "      <th>Protocol</th>\n",
       "      <th>Timestamp</th>\n",
       "      <th>Flow Duration</th>\n",
       "      <th>Total Fwd Packet</th>\n",
       "      <th>Total Bwd packets</th>\n",
       "      <th>...</th>\n",
       "      <th>Fwd Seg Size Min</th>\n",
       "      <th>Active Mean</th>\n",
       "      <th>Active Std</th>\n",
       "      <th>Active Max</th>\n",
       "      <th>Active Min</th>\n",
       "      <th>Idle Mean</th>\n",
       "      <th>Idle Std</th>\n",
       "      <th>Idle Max</th>\n",
       "      <th>Idle Min</th>\n",
       "      <th>Label</th>\n",
       "    </tr>\n",
       "  </thead>\n",
       "  <tbody>\n",
       "    <tr>\n",
       "      <th>0</th>\n",
       "      <td>192.168.100.154-192.168.100.186-36664-80-6</td>\n",
       "      <td>192.168.100.154</td>\n",
       "      <td>36664</td>\n",
       "      <td>192.168.100.186</td>\n",
       "      <td>80</td>\n",
       "      <td>6</td>\n",
       "      <td>23/11/2024 05:43:49 PM</td>\n",
       "      <td>91454</td>\n",
       "      <td>2</td>\n",
       "      <td>1</td>\n",
       "      <td>...</td>\n",
       "      <td>20</td>\n",
       "      <td>0.0</td>\n",
       "      <td>0.0</td>\n",
       "      <td>0.0</td>\n",
       "      <td>0.0</td>\n",
       "      <td>0.0</td>\n",
       "      <td>0.0</td>\n",
       "      <td>0.0</td>\n",
       "      <td>0.0</td>\n",
       "      <td>NTP</td>\n",
       "    </tr>\n",
       "    <tr>\n",
       "      <th>1</th>\n",
       "      <td>192.168.100.154-192.168.100.186-36665-80-6</td>\n",
       "      <td>192.168.100.154</td>\n",
       "      <td>36665</td>\n",
       "      <td>192.168.100.186</td>\n",
       "      <td>80</td>\n",
       "      <td>6</td>\n",
       "      <td>23/11/2024 05:43:49 PM</td>\n",
       "      <td>91455</td>\n",
       "      <td>2</td>\n",
       "      <td>1</td>\n",
       "      <td>...</td>\n",
       "      <td>20</td>\n",
       "      <td>0.0</td>\n",
       "      <td>0.0</td>\n",
       "      <td>0.0</td>\n",
       "      <td>0.0</td>\n",
       "      <td>0.0</td>\n",
       "      <td>0.0</td>\n",
       "      <td>0.0</td>\n",
       "      <td>0.0</td>\n",
       "      <td>NTP</td>\n",
       "    </tr>\n",
       "    <tr>\n",
       "      <th>2</th>\n",
       "      <td>192.168.100.154-192.168.100.186-36666-80-6</td>\n",
       "      <td>192.168.100.154</td>\n",
       "      <td>36666</td>\n",
       "      <td>192.168.100.186</td>\n",
       "      <td>80</td>\n",
       "      <td>6</td>\n",
       "      <td>23/11/2024 05:43:49 PM</td>\n",
       "      <td>91102</td>\n",
       "      <td>2</td>\n",
       "      <td>1</td>\n",
       "      <td>...</td>\n",
       "      <td>20</td>\n",
       "      <td>0.0</td>\n",
       "      <td>0.0</td>\n",
       "      <td>0.0</td>\n",
       "      <td>0.0</td>\n",
       "      <td>0.0</td>\n",
       "      <td>0.0</td>\n",
       "      <td>0.0</td>\n",
       "      <td>0.0</td>\n",
       "      <td>NTP</td>\n",
       "    </tr>\n",
       "    <tr>\n",
       "      <th>3</th>\n",
       "      <td>192.168.100.154-192.168.100.186-36667-80-6</td>\n",
       "      <td>192.168.100.154</td>\n",
       "      <td>36667</td>\n",
       "      <td>192.168.100.186</td>\n",
       "      <td>80</td>\n",
       "      <td>6</td>\n",
       "      <td>23/11/2024 05:43:49 PM</td>\n",
       "      <td>91102</td>\n",
       "      <td>2</td>\n",
       "      <td>1</td>\n",
       "      <td>...</td>\n",
       "      <td>20</td>\n",
       "      <td>0.0</td>\n",
       "      <td>0.0</td>\n",
       "      <td>0.0</td>\n",
       "      <td>0.0</td>\n",
       "      <td>0.0</td>\n",
       "      <td>0.0</td>\n",
       "      <td>0.0</td>\n",
       "      <td>0.0</td>\n",
       "      <td>NTP</td>\n",
       "    </tr>\n",
       "    <tr>\n",
       "      <th>4</th>\n",
       "      <td>192.168.100.154-192.168.100.186-36668-80-6</td>\n",
       "      <td>192.168.100.154</td>\n",
       "      <td>36668</td>\n",
       "      <td>192.168.100.186</td>\n",
       "      <td>80</td>\n",
       "      <td>6</td>\n",
       "      <td>23/11/2024 05:43:49 PM</td>\n",
       "      <td>91102</td>\n",
       "      <td>2</td>\n",
       "      <td>1</td>\n",
       "      <td>...</td>\n",
       "      <td>20</td>\n",
       "      <td>0.0</td>\n",
       "      <td>0.0</td>\n",
       "      <td>0.0</td>\n",
       "      <td>0.0</td>\n",
       "      <td>0.0</td>\n",
       "      <td>0.0</td>\n",
       "      <td>0.0</td>\n",
       "      <td>0.0</td>\n",
       "      <td>NTP</td>\n",
       "    </tr>\n",
       "  </tbody>\n",
       "</table>\n",
       "<p>5 rows × 84 columns</p>\n",
       "</div>"
      ],
      "text/plain": [
       "                                      Flow ID           Src IP  Src Port  \\\n",
       "0  192.168.100.154-192.168.100.186-36664-80-6  192.168.100.154     36664   \n",
       "1  192.168.100.154-192.168.100.186-36665-80-6  192.168.100.154     36665   \n",
       "2  192.168.100.154-192.168.100.186-36666-80-6  192.168.100.154     36666   \n",
       "3  192.168.100.154-192.168.100.186-36667-80-6  192.168.100.154     36667   \n",
       "4  192.168.100.154-192.168.100.186-36668-80-6  192.168.100.154     36668   \n",
       "\n",
       "            Dst IP  Dst Port  Protocol               Timestamp  Flow Duration  \\\n",
       "0  192.168.100.186        80         6  23/11/2024 05:43:49 PM          91454   \n",
       "1  192.168.100.186        80         6  23/11/2024 05:43:49 PM          91455   \n",
       "2  192.168.100.186        80         6  23/11/2024 05:43:49 PM          91102   \n",
       "3  192.168.100.186        80         6  23/11/2024 05:43:49 PM          91102   \n",
       "4  192.168.100.186        80         6  23/11/2024 05:43:49 PM          91102   \n",
       "\n",
       "   Total Fwd Packet  Total Bwd packets  ...  Fwd Seg Size Min  Active Mean  \\\n",
       "0                 2                  1  ...                20          0.0   \n",
       "1                 2                  1  ...                20          0.0   \n",
       "2                 2                  1  ...                20          0.0   \n",
       "3                 2                  1  ...                20          0.0   \n",
       "4                 2                  1  ...                20          0.0   \n",
       "\n",
       "   Active Std  Active Max  Active Min  Idle Mean  Idle Std  Idle Max  \\\n",
       "0         0.0         0.0         0.0        0.0       0.0       0.0   \n",
       "1         0.0         0.0         0.0        0.0       0.0       0.0   \n",
       "2         0.0         0.0         0.0        0.0       0.0       0.0   \n",
       "3         0.0         0.0         0.0        0.0       0.0       0.0   \n",
       "4         0.0         0.0         0.0        0.0       0.0       0.0   \n",
       "\n",
       "   Idle Min  Label  \n",
       "0       0.0    NTP  \n",
       "1       0.0    NTP  \n",
       "2       0.0    NTP  \n",
       "3       0.0    NTP  \n",
       "4       0.0    NTP  \n",
       "\n",
       "[5 rows x 84 columns]"
      ]
     },
     "execution_count": 10,
     "metadata": {},
     "output_type": "execute_result"
    }
   ],
   "source": [
    "file_path = 'syn.pcap_Flow.csv'\n",
    "df = pd.read_csv(f\"predict_result/syn.pcap_Flow.csv\")\n",
    "df.head(5)"
   ]
  },
  {
   "cell_type": "code",
   "execution_count": 6,
   "id": "a017bb45-7efa-4d9c-9030-04b2c5261211",
   "metadata": {},
   "outputs": [
    {
     "name": "stdout",
     "output_type": "stream",
     "text": [
      "Major: 3\n",
      "Minor: 12\n",
      "Micro: 4\n",
      "3.12.4 | packaged by Anaconda, Inc. | (main, Jun 18 2024, 15:03:56) [MSC v.1929 64 bit (AMD64)]\n"
     ]
    }
   ],
   "source": [
    "import sys\n",
    "print(f\"Major: {sys.version_info.major}\")\n",
    "print(f\"Minor: {sys.version_info.minor}\")\n",
    "print(f\"Micro: {sys.version_info.micro}\")\n",
    "print(sys.version)"
   ]
  },
  {
   "cell_type": "code",
   "execution_count": null,
   "id": "cc5203ce-c571-4da4-930e-b9cd74e5baf8",
   "metadata": {},
   "outputs": [],
   "source": []
  }
 ],
 "metadata": {
  "kernelspec": {
   "display_name": "Python 3 (ipykernel)",
   "language": "python",
   "name": "python3"
  },
  "language_info": {
   "codemirror_mode": {
    "name": "ipython",
    "version": 3
   },
   "file_extension": ".py",
   "mimetype": "text/x-python",
   "name": "python",
   "nbconvert_exporter": "python",
   "pygments_lexer": "ipython3",
   "version": "3.12.4"
  }
 },
 "nbformat": 4,
 "nbformat_minor": 5
}
