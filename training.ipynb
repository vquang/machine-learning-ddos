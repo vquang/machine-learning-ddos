{
 "cells": [
  {
   "cell_type": "markdown",
   "id": "02bf5ca5-4bd5-468b-9f5b-29c8aeaf5228",
   "metadata": {
    "jp-MarkdownHeadingCollapsed": true
   },
   "source": [
    "# ALL LIBRARIES"
   ]
  },
  {
   "cell_type": "code",
   "execution_count": 14,
   "id": "bd03df0f-8778-44d4-b214-8970e040cdea",
   "metadata": {},
   "outputs": [],
   "source": [
    "import glob\n",
    "import time\n",
    "import pandas as pd\n",
    "\n",
    "from sklearn.preprocessing import LabelEncoder, StandardScaler\n",
    "from sklearn.model_selection import train_test_split\n",
    "from sklearn.ensemble import RandomForestClassifier\n",
    "from sklearn.metrics import classification_report, accuracy_score\n",
    "import joblib"
   ]
  },
  {
   "cell_type": "markdown",
   "id": "784b7e68-bcfd-4a23-a184-ca27835a12e4",
   "metadata": {},
   "source": [
    "# GLOBAL FUNCTION"
   ]
  },
  {
   "cell_type": "markdown",
   "id": "db32ae09-8116-40ec-9e43-46b0622d1b95",
   "metadata": {},
   "source": [
    "## GET DATAFRAME FUNCTION"
   ]
  },
  {
   "cell_type": "code",
   "execution_count": 17,
   "id": "c386591d-fbea-4127-a3f3-fc8f0c63ed9e",
   "metadata": {},
   "outputs": [],
   "source": [
    "def get_dataframe(files):\n",
    "    t1 = time.time()\n",
    "    print(f\"==============================\")\n",
    "\n",
    "    print(f\"Get dataframe from parquet dataset...\")\n",
    "    dfs = [pd.read_parquet(file) for file in files]\n",
    "    df = pd.concat(dfs)\n",
    "\n",
    "    t2 = time.time()\n",
    "    print(f\"Finish... Total time: {t2 - t1} seconds\")\n",
    "    print(f\"==============================\")\n",
    "\n",
    "    return df\n",
    "    "
   ]
  },
  {
   "cell_type": "markdown",
   "id": "b16f832d-c335-4b91-b074-e648654a0678",
   "metadata": {},
   "source": [
    "## TRAINING FUNCTION"
   ]
  },
  {
   "cell_type": "code",
   "execution_count": 19,
   "id": "3dd158e6-c6c8-475a-bb0b-c9c36639ac1d",
   "metadata": {},
   "outputs": [],
   "source": [
    "def training(df):\n",
    "\n",
    "    t1 = time.time()\n",
    "    print(f\"==============================\")\n",
    "\n",
    "    print(f\"Separate features and labels into X and y...\")\n",
    "    X = df.drop(columns=['Label'])\n",
    "    y = df['Label'].str.replace('DrDoS_', '')\n",
    "\n",
    "    print(f\"Split origin data into 'training data' and 'testing data' (8:2)...\")\n",
    "    X_train, X_test, y_train, y_test = train_test_split(X, y, test_size=0.2, random_state=42)\n",
    "\n",
    "    print(f\"Start training...\")\n",
    "    model = RandomForestClassifier(n_estimators=100, random_state=42)\n",
    "    model.fit(X_train, y_train)\n",
    "\n",
    "    t2 = time.time()\n",
    "    print(f\"Finish... Total time: {t2 - t1} seconds\")\n",
    "    print(f\"==============================\")\n",
    "\n",
    "    return X, y, X_train, y_train, X_test, y_test, model\n",
    "    "
   ]
  },
  {
   "cell_type": "markdown",
   "id": "dda7c871-1613-4b94-b82e-8aa10c37f42a",
   "metadata": {},
   "source": [
    "## PREDICTING FUNCTION"
   ]
  },
  {
   "cell_type": "code",
   "execution_count": 35,
   "id": "d0f46a4e-3ee1-4dcd-9d35-8e3d44dac49f",
   "metadata": {},
   "outputs": [],
   "source": [
    "def predicting(model, X_test, y_test):\n",
    "    t1 = time.time()\n",
    "    print(f\"==============================\")\n",
    "\n",
    "    print(f\"Start predicting...\")\n",
    "    y_pred = model.predict(X_test)\n",
    "    print(f\"Accuracy: {accuracy_score(y_test, y_pred)}\")\n",
    "    print(f\"Classification Report:\")\n",
    "    print(classification_report(y_test, y_pred))\n",
    "\n",
    "    t2 = time.time()\n",
    "    print(f\"Finish... Total time: {t2 - t1} seconds\")\n",
    "    print(f\"==============================\")\n",
    "\n",
    "    return y_pred"
   ]
  },
  {
   "cell_type": "markdown",
   "id": "21fb9195-5d23-409f-a01f-6228c9f20a86",
   "metadata": {},
   "source": [
    "## SAVING MODEL FUNCTION"
   ]
  },
  {
   "cell_type": "code",
   "execution_count": 23,
   "id": "785fd25d-c9df-4a60-bab7-c29d73c17507",
   "metadata": {},
   "outputs": [],
   "source": [
    "def saving(model, file):\n",
    "    t1 = time.time()\n",
    "    print(f\"==============================\")\n",
    "\n",
    "    print(f\"Saving model to {file}...\")\n",
    "    joblib.dump(model, file)\n",
    "\n",
    "    t2 = time.time()\n",
    "    print(f\"Finish... Total time: {t2 - t1} seconds\")\n",
    "    print(f\"==============================\")"
   ]
  },
  {
   "cell_type": "markdown",
   "id": "1a248d88-b845-4b82-bf3c-71b663a66c4c",
   "metadata": {},
   "source": [
    "# MAIN PROCESSING..."
   ]
  },
  {
   "cell_type": "markdown",
   "id": "e7bd6a1b-7a56-4aec-ad7a-d5e58d5ec061",
   "metadata": {},
   "source": [
    "## READING DATASET..."
   ]
  },
  {
   "cell_type": "code",
   "execution_count": 25,
   "id": "6213d022-f3fe-4f71-86ee-3ffaeb134740",
   "metadata": {},
   "outputs": [
    {
     "name": "stdout",
     "output_type": "stream",
     "text": [
      "==============================\n",
      "Reading dataset...\n",
      "\tdataset\\DrDoS_DNS.parquet\n",
      "\tdataset\\DrDoS_LDAP.parquet\n",
      "\tdataset\\DrDoS_MSSQL.parquet\n",
      "\tdataset\\DrDoS_NetBIOS.parquet\n",
      "\tdataset\\DrDoS_NTP.parquet\n",
      "\tdataset\\DrDoS_SNMP.parquet\n",
      "\tdataset\\DrDoS_SSDP.parquet\n",
      "\tdataset\\DrDoS_UDP.parquet\n",
      "\tdataset\\Syn.parquet\n",
      "\tdataset\\UDPLag.parquet\n",
      "Finish... Total time: 0.0020084381103515625 seconds\n",
      "==============================\n"
     ]
    }
   ],
   "source": [
    "t1 = time.time()\n",
    "print(f\"==============================\")\n",
    "\n",
    "print(f\"Reading dataset...\")\n",
    "files = glob.glob('dataset/*.parquet')\n",
    "for file in files:\n",
    "    print(f\"\\t{file}\")\n",
    "\n",
    "t2 = time.time()\n",
    "print(f\"Finish... Total time: {t2 - t1} seconds\")\n",
    "print(f\"==============================\")"
   ]
  },
  {
   "cell_type": "markdown",
   "id": "a3cafe80-3a79-439c-aa67-80dafa2c1a3d",
   "metadata": {},
   "source": [
    "## GET DATAFRAME..."
   ]
  },
  {
   "cell_type": "code",
   "execution_count": 29,
   "id": "38742672-86dd-40d6-9bb3-90b0b8cdbbb3",
   "metadata": {},
   "outputs": [
    {
     "name": "stdout",
     "output_type": "stream",
     "text": [
      "==============================\n",
      "Get dataframe from parquet dataset...\n",
      "Finish... Total time: 0.985748291015625 seconds\n",
      "==============================\n"
     ]
    }
   ],
   "source": [
    "df = get_dataframe(files)"
   ]
  },
  {
   "cell_type": "markdown",
   "id": "1a9d03f8-a0f3-44cb-a771-a6a249d002b6",
   "metadata": {},
   "source": [
    "## TRAINING..."
   ]
  },
  {
   "cell_type": "code",
   "execution_count": 31,
   "id": "6e42f044-acab-42dc-a2ec-c22c1965bd5a",
   "metadata": {},
   "outputs": [
    {
     "name": "stdout",
     "output_type": "stream",
     "text": [
      "==============================\n",
      "Separate features and labels into X and y...\n",
      "Split origin data into 'training data' and 'testing data' (8:2)...\n",
      "Start training...\n",
      "Finish... Total time: 1959.0261125564575 seconds\n",
      "==============================\n"
     ]
    }
   ],
   "source": [
    "X, y, X_train, y_train, X_test, y_test, model = training(df)"
   ]
  },
  {
   "cell_type": "markdown",
   "id": "90bfd9dd-6ef0-4f3d-a8c5-54c1af5b7400",
   "metadata": {},
   "source": [
    "## PREDICTING..."
   ]
  },
  {
   "cell_type": "code",
   "execution_count": 37,
   "id": "66a29ae4-e595-4818-84ca-3055c42bcfbc",
   "metadata": {},
   "outputs": [
    {
     "name": "stdout",
     "output_type": "stream",
     "text": [
      "==============================\n",
      "Start predicting...\n",
      "Accuracy: 0.6885361230782227\n",
      "Classification Report:\n",
      "              precision    recall  f1-score   support\n",
      "\n",
      "      BENIGN       0.99      1.00      1.00      5877\n",
      "         DNS       0.64      0.62      0.63     22383\n",
      "        LDAP       0.37      0.36      0.37      6194\n",
      "       MSSQL       0.87      0.88      0.88     41448\n",
      "         NTP       1.00      1.00      1.00    218828\n",
      "     NetBIOS       0.45      0.42      0.43      3898\n",
      "        SNMP       0.77      0.79      0.78     22434\n",
      "        SSDP       0.41      0.39      0.40    175792\n",
      "         Syn       0.97      0.96      0.97     31068\n",
      "         UDP       0.52      0.54      0.53    212053\n",
      "     UDP-lag       0.79      0.70      0.74     17657\n",
      "\n",
      "    accuracy                           0.69    757632\n",
      "   macro avg       0.71      0.70      0.70    757632\n",
      "weighted avg       0.69      0.69      0.69    757632\n",
      "\n",
      "Finish... Total time: 165.21587014198303 seconds\n",
      "==============================\n"
     ]
    }
   ],
   "source": [
    "y_pred = predicting(model, X_test, y_test)"
   ]
  },
  {
   "cell_type": "markdown",
   "id": "4b707352-cc6e-4fac-9956-bdd251a40f5c",
   "metadata": {},
   "source": [
    "## SAVING MODEL..."
   ]
  },
  {
   "cell_type": "code",
   "execution_count": 41,
   "id": "4ca8198d-d1f6-4f8b-a50c-ea305740b6ef",
   "metadata": {},
   "outputs": [
    {
     "name": "stdout",
     "output_type": "stream",
     "text": [
      "==============================\n",
      "Saving model to modelset/model.joblib...\n",
      "Finish... Total time: 76.11339521408081 seconds\n",
      "==============================\n"
     ]
    }
   ],
   "source": [
    "saving(model, 'modelset/model.joblib')"
   ]
  }
 ],
 "metadata": {
  "kernelspec": {
   "display_name": "Python 3 (ipykernel)",
   "language": "python",
   "name": "python3"
  },
  "language_info": {
   "codemirror_mode": {
    "name": "ipython",
    "version": 3
   },
   "file_extension": ".py",
   "mimetype": "text/x-python",
   "name": "python",
   "nbconvert_exporter": "python",
   "pygments_lexer": "ipython3",
   "version": "3.12.4"
  }
 },
 "nbformat": 4,
 "nbformat_minor": 5
}
