{
 "cells": [
  {
   "cell_type": "markdown",
   "id": "0bd8fc30-db2d-4da2-a045-65b90459c6c2",
   "metadata": {},
   "source": [
    "# LIBRARIES"
   ]
  },
  {
   "cell_type": "code",
   "execution_count": 5,
   "id": "f46d95d1-26b3-40fd-a30a-9838797dab3c",
   "metadata": {},
   "outputs": [],
   "source": [
    "import glob\n",
    "import time\n",
    "import pandas as pd\n",
    "\n",
    "from sklearn.preprocessing import LabelEncoder, StandardScaler\n",
    "from sklearn.model_selection import train_test_split\n",
    "from sklearn.ensemble import RandomForestClassifier\n",
    "from sklearn.naive_bayes import GaussianNB\n",
    "from sklearn.tree import DecisionTreeClassifier\n",
    "from sklearn.metrics import accuracy_score, precision_score, recall_score, f1_score, classification_report\n",
    "import joblib\n",
    "import matplotlib.pyplot as plt"
   ]
  },
  {
   "cell_type": "markdown",
   "id": "78269951-0e3b-40d8-b63e-b6cedb5e3d5e",
   "metadata": {},
   "source": [
    "# GLOBAL FUNCTION"
   ]
  },
  {
   "cell_type": "markdown",
   "id": "35572edc-1b91-4dd5-9cdd-01a1c19c1ebf",
   "metadata": {},
   "source": [
    "## COMMON FUNCTION"
   ]
  },
  {
   "cell_type": "code",
   "execution_count": 7,
   "id": "cf179f19-d4db-4ad9-ac8f-bd8477fb1eb1",
   "metadata": {},
   "outputs": [],
   "source": [
    "def get_splitting_data():\n",
    "    X_train, X_test, y_train, y_test = joblib.load('commons/data_splits.joblib')\n",
    "    return X_train, X_test, y_train, y_test"
   ]
  },
  {
   "cell_type": "code",
   "execution_count": 9,
   "id": "bbca8b3b-35f6-46ad-b000-af30554b223f",
   "metadata": {},
   "outputs": [],
   "source": [
    "def load_model(file):\n",
    "    print(f\"Loading model from {file}...\")\n",
    "    model = joblib.load(file, mmap_mode='r')\n",
    "    \n",
    "    return model"
   ]
  },
  {
   "cell_type": "code",
   "execution_count": 11,
   "id": "27f4fb05-f92c-4bc8-bba8-dc1f799339a7",
   "metadata": {},
   "outputs": [],
   "source": [
    "def predict_compare(random_forest_model, decision_tree_model, naive_bayes_model):\n",
    "    results = {}\n",
    "    \n",
    "    # RANDOM FOREST\n",
    "    t1 = time.time()\n",
    "    print(f\"==============================\")\n",
    "    print(f\"Predicting RANDOM FOREST...\")\n",
    "    y_pred = random_forest_model.predict(X_test)\n",
    "    accuracy = accuracy_score(y_test, y_pred)\n",
    "    precision = precision_score(y_test, y_pred, average='weighted')\n",
    "    recall = recall_score(y_test, y_pred, average='weighted')\n",
    "    f1 = f1_score(y_test, y_pred, average='weighted')\n",
    "    print(f\"Training Accuracy: {accuracy}\")\n",
    "    print(f\"Training Precision: {precision}\")\n",
    "    print(f\"Training Recall: {recall}\")\n",
    "    print(f\"Training F1 Score: {f1}\")\n",
    "    t2 = time.time()\n",
    "    print(f\"Finish Predicting... Total time: {t2 - t1} seconds\")\n",
    "    results[\"Random Forest\"] = {\n",
    "        \"Accuracy\": accuracy,\n",
    "        \"Precision\": precision,\n",
    "        \"Recall\": recall,\n",
    "        \"F1 Score\": f1\n",
    "    }\n",
    "\n",
    "    # DECISION TREE\n",
    "    t1 = time.time()\n",
    "    print(f\"==============================\")\n",
    "    print(f\"Predicting DECISION TREE...\")\n",
    "    y_pred = decision_tree_model.predict(X_test)\n",
    "    accuracy = accuracy_score(y_test, y_pred)\n",
    "    precision = precision_score(y_test, y_pred, average='weighted')\n",
    "    recall = recall_score(y_test, y_pred, average='weighted')\n",
    "    f1 = f1_score(y_test, y_pred, average='weighted')\n",
    "    print(f\"Training Accuracy: {accuracy}\")\n",
    "    print(f\"Training Precision: {precision}\")\n",
    "    print(f\"Training Recall: {recall}\")\n",
    "    print(f\"Training F1 Score: {f1}\")\n",
    "    t2 = time.time()\n",
    "    print(f\"Finish Predicting... Total time: {t2 - t1} seconds\")\n",
    "    results[\"Decision Tree\"] = {\n",
    "        \"Accuracy\": accuracy,\n",
    "        \"Precision\": precision,\n",
    "        \"Recall\": recall,\n",
    "        \"F1 Score\": f1\n",
    "    }\n",
    "\n",
    "    # NAIVE BAYES\n",
    "    t1 = time.time()\n",
    "    print(f\"==============================\")\n",
    "    print(f\"Predicting NAIVE BAYES...\")\n",
    "    y_pred = naive_bayes_model.predict(X_test)\n",
    "    accuracy = accuracy_score(y_test, y_pred)\n",
    "    precision = precision_score(y_test, y_pred, average='weighted')\n",
    "    recall = recall_score(y_test, y_pred, average='weighted')\n",
    "    f1 = f1_score(y_test, y_pred, average='weighted')\n",
    "    print(f\"Training Accuracy: {accuracy}\")\n",
    "    print(f\"Training Precision: {precision}\")\n",
    "    print(f\"Training Recall: {recall}\")\n",
    "    print(f\"Training F1 Score: {f1}\")\n",
    "    t2 = time.time()\n",
    "    print(f\"Finish Predicting... Total time: {t2 - t1} seconds\")\n",
    "    results[\"Naive Bayes\"] = {\n",
    "        \"Accuracy\": accuracy,\n",
    "        \"Precision\": precision,\n",
    "        \"Recall\": recall,\n",
    "        \"F1 Score\": f1\n",
    "    }\n",
    "\n",
    "    return results"
   ]
  },
  {
   "cell_type": "code",
   "execution_count": 13,
   "id": "9346df0c-8920-47af-9d50-34428ba5e91c",
   "metadata": {},
   "outputs": [],
   "source": [
    "def create_chart(results):\n",
    "    metrics = [\"Accuracy\", \"Precision\", \"Recall\", \"F1 Score\"]\n",
    "    model_names = list(results.keys())\n",
    "    values = {metric: [results[model][metric] for model in model_names] for metric in metrics}\n",
    "\n",
    "    x = range(len(model_names))\n",
    "    bar_width = 0.2\n",
    "\n",
    "    plt.figure(figsize=(10, 6))\n",
    "    for i, metric in enumerate(metrics):\n",
    "        plt.bar(\n",
    "            [pos + i * bar_width for pos in x],\n",
    "            values[metric],\n",
    "            bar_width,\n",
    "            label=metric\n",
    "        )\n",
    "    \n",
    "    plt.xticks([pos + bar_width * (len(metrics) / 2 - 0.5) for pos in x], model_names)\n",
    "    plt.xlabel(\"Models\")\n",
    "    plt.ylabel(\"Scores\")\n",
    "    plt.title(\"Model Performance Comparison\")\n",
    "    plt.legend()\n",
    "    plt.show()"
   ]
  },
  {
   "cell_type": "markdown",
   "id": "6c3313d8-edb6-4b7c-a905-178afa9051a7",
   "metadata": {
    "jp-MarkdownHeadingCollapsed": true
   },
   "source": [
    "## TRAINING FUNCTION"
   ]
  },
  {
   "cell_type": "code",
   "execution_count": 5,
   "id": "79fcf3f1-0b13-4b90-9b9f-dfdf0a69beca",
   "metadata": {},
   "outputs": [],
   "source": [
    "def training_random_forest():\n",
    "    # training...\n",
    "    t1 = time.time()\n",
    "    print(f\"============== RANDOM FOREST ================\")\n",
    "    print(f\"Start training...\")\n",
    "    model = RandomForestClassifier(n_estimators=100, max_depth=10, random_state=42)\n",
    "    model.fit(X_train, y_train)\n",
    "    t2 = time.time()\n",
    "    print(f\"Finish Training... Total time: {t2 - t1} seconds\")\n",
    "\n",
    "    # save model...\n",
    "    t1 = time.time()\n",
    "    print(f\"==============================\")\n",
    "    print(f\"Saving model to 'modelset_compare/model-random-forest.joblib'...\")\n",
    "    joblib.dump(model, f'modelset_compare/model-random-forest.joblib')\n",
    "    t2 = time.time()\n",
    "    print(f\"Finish Saving model... Total time: {t2 - t1} seconds\")\n",
    "\n",
    "    # predicting...\n",
    "    t1 = time.time()\n",
    "    print(f\"==============================\")\n",
    "    \n",
    "    print(f\"Predicting...\")\n",
    "    y_pred = model.predict(X_test)\n",
    "    accuracy = accuracy_score(y_test, y_pred)\n",
    "    precision = precision_score(y_test, y_pred, average='weighted')\n",
    "    recall = recall_score(y_test, y_pred, average='weighted')\n",
    "    f1 = f1_score(y_test, y_pred, average='weighted')\n",
    "    print(f\"Training Accuracy: {accuracy}\")\n",
    "    print(f\"Training Precision: {precision}\")\n",
    "    print(f\"Training Recall: {recall}\")\n",
    "    print(f\"Training F1 Score: {f1}\")\n",
    "    \n",
    "    print(f\"Classification Report:\")\n",
    "    print(classification_report(y_test, y_pred))\n",
    "    t2 = time.time()\n",
    "    print(f\"Finish Predicting... Total time: {t2 - t1} seconds\")\n",
    "\n",
    "    return model"
   ]
  },
  {
   "cell_type": "code",
   "execution_count": 5,
   "id": "ff684bae-d427-4ca9-97bb-0d54f02f8d57",
   "metadata": {},
   "outputs": [],
   "source": [
    "def training_naive_bayes():\n",
    "    # training...\n",
    "    t1 = time.time()\n",
    "    print(f\"============== NAIVE BAYES ================\")\n",
    "    print(f\"Start training...\")\n",
    "    model = GaussianNB()\n",
    "    model.fit(X_train, y_train)\n",
    "    t2 = time.time()\n",
    "    print(f\"Finish Training... Total time: {t2 - t1} seconds\")\n",
    "\n",
    "    # save model...\n",
    "    t1 = time.time()\n",
    "    print(f\"==============================\")\n",
    "    print(f\"Saving model to 'modelset_compare/model-naive-bayes.joblib'...\")\n",
    "    joblib.dump(model, f'modelset_compare/model-naive-bayes.joblib')\n",
    "    t2 = time.time()\n",
    "    print(f\"Finish Saving model... Total time: {t2 - t1} seconds\")\n",
    "\n",
    "    # predicting...\n",
    "    t1 = time.time()\n",
    "    print(f\"==============================\")\n",
    "    \n",
    "    print(f\"Predicting...\")\n",
    "    y_pred = model.predict(X_test)\n",
    "    accuracy = accuracy_score(y_test, y_pred)\n",
    "    precision = precision_score(y_test, y_pred, average='weighted')\n",
    "    recall = recall_score(y_test, y_pred, average='weighted')\n",
    "    f1 = f1_score(y_test, y_pred, average='weighted')\n",
    "    print(f\"Training Accuracy: {accuracy}\")\n",
    "    print(f\"Training Precision: {precision}\")\n",
    "    print(f\"Training Recall: {recall}\")\n",
    "    print(f\"Training F1 Score: {f1}\")\n",
    "    \n",
    "    print(f\"Classification Report:\")\n",
    "    print(classification_report(y_test, y_pred))\n",
    "    t2 = time.time()\n",
    "    print(f\"Finish Predicting... Total time: {t2 - t1} seconds\")\n",
    "\n",
    "    return model"
   ]
  },
  {
   "cell_type": "code",
   "execution_count": 9,
   "id": "134cd3ef-b44a-4345-83a8-8b23eae69118",
   "metadata": {},
   "outputs": [],
   "source": [
    "def training_decision_tree():\n",
    "    # training...\n",
    "    t1 = time.time()\n",
    "    print(f\"============== DECISION TREE ================\")\n",
    "    print(f\"Start training...\")\n",
    "    model = DecisionTreeClassifier()\n",
    "    model.fit(X_train, y_train)\n",
    "    t2 = time.time()\n",
    "    print(f\"Finish Training... Total time: {t2 - t1} seconds\")\n",
    "\n",
    "    # save model...\n",
    "    t1 = time.time()\n",
    "    print(f\"==============================\")\n",
    "    print(f\"Saving model to 'modelset_compare/model-decision_tree.joblib'...\")\n",
    "    joblib.dump(model, f'modelset_compare/model-decision_tree.joblib')\n",
    "    t2 = time.time()\n",
    "    print(f\"Finish Saving model... Total time: {t2 - t1} seconds\")\n",
    "\n",
    "    # predicting...\n",
    "    t1 = time.time()\n",
    "    print(f\"==============================\")\n",
    "    \n",
    "    print(f\"Predicting...\")\n",
    "    y_pred = model.predict(X_test)\n",
    "    accuracy = accuracy_score(y_test, y_pred)\n",
    "    precision = precision_score(y_test, y_pred, average='weighted')\n",
    "    recall = recall_score(y_test, y_pred, average='weighted')\n",
    "    f1 = f1_score(y_test, y_pred, average='weighted')\n",
    "    print(f\"Training Accuracy: {accuracy}\")\n",
    "    print(f\"Training Precision: {precision}\")\n",
    "    print(f\"Training Recall: {recall}\")\n",
    "    print(f\"Training F1 Score: {f1}\")\n",
    "    \n",
    "    print(f\"Classification Report:\")\n",
    "    print(classification_report(y_test, y_pred))\n",
    "    t2 = time.time()\n",
    "    print(f\"Finish Predicting... Total time: {t2 - t1} seconds\")\n",
    "\n",
    "    return model"
   ]
  },
  {
   "cell_type": "markdown",
   "id": "5af9ac92-821b-4d95-a8d3-0814b8a6e47d",
   "metadata": {
    "jp-MarkdownHeadingCollapsed": true
   },
   "source": [
    "# TRAINING PROCESS"
   ]
  },
  {
   "cell_type": "code",
   "execution_count": 7,
   "id": "9443cb4f-3cc4-409b-b85b-4c3bcf08e881",
   "metadata": {},
   "outputs": [],
   "source": [
    "X_train, X_test, y_train, y_test = get_splitting_data()"
   ]
  },
  {
   "cell_type": "markdown",
   "id": "8ec7b685-4a7b-489c-9bd7-e48bc1010eac",
   "metadata": {
    "jp-MarkdownHeadingCollapsed": true
   },
   "source": [
    "## RANDOM FOREST"
   ]
  },
  {
   "cell_type": "code",
   "execution_count": 13,
   "id": "b056346d-25f4-43a7-92e4-a99bc8aaa929",
   "metadata": {},
   "outputs": [
    {
     "name": "stdout",
     "output_type": "stream",
     "text": [
      "============== RANDOM FOREST ================\n",
      "Start training...\n",
      "Finish Training... Total time: 876.8276045322418 seconds\n",
      "==============================\n",
      "Saving model to 'modelset_compare/model-random-forest.joblib'...\n",
      "Finish Saving model... Total time: 0.05000424385070801 seconds\n",
      "==============================\n",
      "Predicting...\n",
      "Training Accuracy: 0.7391873627301909\n",
      "Training Precision: 0.7380669787302381\n",
      "Training Recall: 0.7391873627301909\n",
      "Training F1 Score: 0.6996331021091136\n",
      "Classification Report:\n",
      "              precision    recall  f1-score   support\n",
      "\n",
      "      BENIGN       0.97      1.00      0.99      5877\n",
      "         DNS       0.71      0.54      0.61     22383\n",
      "        LDAP       0.56      0.31      0.40      6194\n",
      "       MSSQL       0.83      0.95      0.88     41448\n",
      "         NTP       0.99      1.00      1.00    218828\n",
      "     NetBIOS       0.88      0.37      0.52      3898\n",
      "        SNMP       0.73      0.90      0.81     22434\n",
      "        SSDP       0.55      0.16      0.24    175792\n",
      "         Syn       0.96      0.99      0.98     31068\n",
      "         UDP       0.56      0.90      0.69    212053\n",
      "     UDP-lag       0.99      0.69      0.81     17657\n",
      "\n",
      "    accuracy                           0.74    757632\n",
      "   macro avg       0.79      0.71      0.72    757632\n",
      "weighted avg       0.74      0.74      0.70    757632\n",
      "\n",
      "Finish Predicting... Total time: 59.55327010154724 seconds\n"
     ]
    }
   ],
   "source": [
    "model = training_random_forest()"
   ]
  },
  {
   "cell_type": "markdown",
   "id": "b39cb28a-ef5f-449a-ab3c-97274b162c49",
   "metadata": {
    "jp-MarkdownHeadingCollapsed": true
   },
   "source": [
    "## NAIVE BAYES"
   ]
  },
  {
   "cell_type": "code",
   "execution_count": 9,
   "id": "12507440-b078-4e7e-ad7a-f89a09880a34",
   "metadata": {},
   "outputs": [
    {
     "name": "stdout",
     "output_type": "stream",
     "text": [
      "============== NAIVE BAYES ================\n",
      "Start training...\n",
      "Finish Training... Total time: 7.9394590854644775 seconds\n",
      "==============================\n",
      "Saving model to 'modelset_compare/model-naive-bayes.joblib'...\n",
      "Finish Saving model... Total time: 0.002002239227294922 seconds\n",
      "==============================\n",
      "Predicting...\n"
     ]
    },
    {
     "name": "stderr",
     "output_type": "stream",
     "text": [
      "E:\\app\\anaconda\\Lib\\site-packages\\sklearn\\metrics\\_classification.py:1509: UndefinedMetricWarning: Precision is ill-defined and being set to 0.0 in labels with no predicted samples. Use `zero_division` parameter to control this behavior.\n",
      "  _warn_prf(average, modifier, f\"{metric.capitalize()} is\", len(result))\n"
     ]
    },
    {
     "name": "stdout",
     "output_type": "stream",
     "text": [
      "Training Accuracy: 0.2750688988849468\n",
      "Training Precision: 0.26391349124704444\n",
      "Training Recall: 0.2750688988849468\n",
      "Training F1 Score: 0.15453811046484442\n",
      "Classification Report:\n"
     ]
    },
    {
     "name": "stderr",
     "output_type": "stream",
     "text": [
      "E:\\app\\anaconda\\Lib\\site-packages\\sklearn\\metrics\\_classification.py:1509: UndefinedMetricWarning: Precision is ill-defined and being set to 0.0 in labels with no predicted samples. Use `zero_division` parameter to control this behavior.\n",
      "  _warn_prf(average, modifier, f\"{metric.capitalize()} is\", len(result))\n",
      "E:\\app\\anaconda\\Lib\\site-packages\\sklearn\\metrics\\_classification.py:1509: UndefinedMetricWarning: Precision is ill-defined and being set to 0.0 in labels with no predicted samples. Use `zero_division` parameter to control this behavior.\n",
      "  _warn_prf(average, modifier, f\"{metric.capitalize()} is\", len(result))\n"
     ]
    },
    {
     "name": "stdout",
     "output_type": "stream",
     "text": [
      "              precision    recall  f1-score   support\n",
      "\n",
      "      BENIGN       0.00      0.00      0.00      5877\n",
      "         DNS       0.11      0.02      0.03     22383\n",
      "        LDAP       0.04      0.35      0.07      6194\n",
      "       MSSQL       0.07      0.00      0.00     41448\n",
      "         NTP       0.00      0.00      0.00    218828\n",
      "     NetBIOS       0.11      0.00      0.01      3898\n",
      "        SNMP       0.23      0.00      0.00     22434\n",
      "        SSDP       0.26      0.95      0.41    175792\n",
      "         Syn       0.65      0.91      0.76     31068\n",
      "         UDP       0.58      0.05      0.09    212053\n",
      "     UDP-lag       0.00      0.00      0.00     17657\n",
      "\n",
      "    accuracy                           0.28    757632\n",
      "   macro avg       0.19      0.21      0.13    757632\n",
      "weighted avg       0.26      0.28      0.15    757632\n",
      "\n",
      "Finish Predicting... Total time: 41.43415880203247 seconds\n"
     ]
    },
    {
     "name": "stderr",
     "output_type": "stream",
     "text": [
      "E:\\app\\anaconda\\Lib\\site-packages\\sklearn\\metrics\\_classification.py:1509: UndefinedMetricWarning: Precision is ill-defined and being set to 0.0 in labels with no predicted samples. Use `zero_division` parameter to control this behavior.\n",
      "  _warn_prf(average, modifier, f\"{metric.capitalize()} is\", len(result))\n"
     ]
    }
   ],
   "source": [
    "model = training_naive_bayes()"
   ]
  },
  {
   "cell_type": "markdown",
   "id": "6a2c98aa-1a10-46fc-ac2a-67a92ec0ab6e",
   "metadata": {
    "jp-MarkdownHeadingCollapsed": true
   },
   "source": [
    "## DECISION TREE"
   ]
  },
  {
   "cell_type": "code",
   "execution_count": 13,
   "id": "c55471d8-7426-4413-b787-909c75295988",
   "metadata": {},
   "outputs": [
    {
     "name": "stdout",
     "output_type": "stream",
     "text": [
      "============== DECISION TREE ================\n",
      "Start training...\n",
      "Finish Training... Total time: 122.56598901748657 seconds\n",
      "==============================\n",
      "Saving model to 'modelset_compare/model-decision_tree.joblib'...\n",
      "Finish Saving model... Total time: 0.16184687614440918 seconds\n",
      "==============================\n",
      "Predicting...\n",
      "Training Accuracy: 0.6803764888494678\n",
      "Training Precision: 0.6825695121446902\n",
      "Training Recall: 0.6803764888494678\n",
      "Training F1 Score: 0.6811480485996023\n",
      "Classification Report:\n",
      "              precision    recall  f1-score   support\n",
      "\n",
      "      BENIGN       0.99      1.00      0.99      5877\n",
      "         DNS       0.54      0.64      0.59     22383\n",
      "        LDAP       0.37      0.36      0.36      6194\n",
      "       MSSQL       0.87      0.86      0.87     41448\n",
      "         NTP       1.00      1.00      1.00    218828\n",
      "     NetBIOS       0.47      0.42      0.44      3898\n",
      "        SNMP       0.81      0.75      0.78     22434\n",
      "        SSDP       0.41      0.43      0.42    175792\n",
      "         Syn       0.96      0.96      0.96     31068\n",
      "         UDP       0.51      0.49      0.50    212053\n",
      "     UDP-lag       0.74      0.70      0.72     17657\n",
      "\n",
      "    accuracy                           0.68    757632\n",
      "   macro avg       0.70      0.69      0.69    757632\n",
      "weighted avg       0.68      0.68      0.68    757632\n",
      "\n",
      "Finish Predicting... Total time: 52.99117875099182 seconds\n"
     ]
    }
   ],
   "source": [
    "model = training_decision_tree()"
   ]
  },
  {
   "cell_type": "markdown",
   "id": "d2f00b8c-0a3b-456a-8daf-bf492a337b53",
   "metadata": {},
   "source": [
    "# CHART"
   ]
  },
  {
   "cell_type": "code",
   "execution_count": 17,
   "id": "96d41a08-96cb-436a-b630-72e76597a212",
   "metadata": {},
   "outputs": [],
   "source": [
    "X_train, X_test, y_train, y_test = get_splitting_data()"
   ]
  },
  {
   "cell_type": "code",
   "execution_count": 19,
   "id": "ccc4ef35-6182-4217-93b3-fe20aee0ef23",
   "metadata": {},
   "outputs": [
    {
     "name": "stdout",
     "output_type": "stream",
     "text": [
      "Loading model from modelset_compare/model-random-forest.joblib...\n",
      "Loading model from modelset_compare/model-decision_tree.joblib...\n",
      "Loading model from modelset_compare/model-naive-bayes.joblib...\n",
      "==============================\n",
      "Predicting RANDOM FOREST...\n",
      "Training Accuracy: 0.7391873627301909\n",
      "Training Precision: 0.7380669787302381\n",
      "Training Recall: 0.7391873627301909\n",
      "Training F1 Score: 0.6996331021091136\n",
      "Finish Predicting... Total time: 29.351801872253418 seconds\n",
      "==============================\n",
      "Predicting DECISION TREE...\n",
      "Training Accuracy: 0.6803764888494678\n",
      "Training Precision: 0.6825695121446902\n",
      "Training Recall: 0.6803764888494678\n",
      "Training F1 Score: 0.6811480485996023\n",
      "Finish Predicting... Total time: 22.58895444869995 seconds\n",
      "==============================\n",
      "Predicting NAIVE BAYES...\n"
     ]
    },
    {
     "name": "stderr",
     "output_type": "stream",
     "text": [
      "E:\\app\\anaconda\\Lib\\site-packages\\sklearn\\metrics\\_classification.py:1509: UndefinedMetricWarning: Precision is ill-defined and being set to 0.0 in labels with no predicted samples. Use `zero_division` parameter to control this behavior.\n",
      "  _warn_prf(average, modifier, f\"{metric.capitalize()} is\", len(result))\n"
     ]
    },
    {
     "name": "stdout",
     "output_type": "stream",
     "text": [
      "Training Accuracy: 0.2750688988849468\n",
      "Training Precision: 0.26391349124704444\n",
      "Training Recall: 0.2750688988849468\n",
      "Training F1 Score: 0.15453811046484442\n",
      "Finish Predicting... Total time: 18.71282148361206 seconds\n"
     ]
    }
   ],
   "source": [
    "random_forest_model = load_model(\"modelset_compare/model-random-forest.joblib\")\n",
    "decision_tree_model = load_model(\"modelset_compare/model-decision_tree.joblib\")\n",
    "naive_bayes_model = load_model(\"modelset_compare/model-naive-bayes.joblib\")\n",
    "\n",
    "results = predict_compare(random_forest_model, decision_tree_model, naive_bayes_model)"
   ]
  },
  {
   "cell_type": "code",
   "execution_count": 21,
   "id": "230e5620-fa8c-4ebd-aa7c-b9bb89b10730",
   "metadata": {},
   "outputs": [
    {
     "data": {
      "image/png": "[encoded data removed]",
      "text/plain": [
       "<Figure size 1000x600 with 1 Axes>"
      ]
     },
     "metadata": {},
     "output_type": "display_data"
    }
   ],
   "source": [
    "create_chart(results)"
   ]
  },
  {
   "cell_type": "code",
   "execution_count": null,
   "id": "977e606f-4187-40ea-bb19-1aa41a0f9d16",
   "metadata": {},
   "outputs": [],
   "source": []
  }
 ],
 "metadata": {
  "kernelspec": {
   "display_name": "Python 3 (ipykernel)",
   "language": "python",
   "name": "python3"
  },
  "language_info": {
   "codemirror_mode": {
    "name": "ipython",
    "version": 3
   },
   "file_extension": ".py",
   "mimetype": "text/x-python",
   "name": "python",
   "nbconvert_exporter": "python",
   "pygments_lexer": "ipython3",
   "version": "3.12.4"
  }
 },
 "nbformat": 4,
 "nbformat_minor": 5
}
